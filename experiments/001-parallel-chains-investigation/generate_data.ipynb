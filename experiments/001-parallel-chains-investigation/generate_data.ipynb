{
 "cells": [
  {
   "cell_type": "code",
   "execution_count": 12,
   "metadata": {},
   "outputs": [],
   "source": [
    "import os\n",
    "import sys\n",
    "\n",
    "REPO_DIRECTORY = f\"{os.getcwd()}/../..\"\n",
    "sys.path.append(REPO_DIRECTORY)"
   ]
  },
  {
   "cell_type": "code",
   "execution_count": 89,
   "metadata": {},
   "outputs": [],
   "source": [
    "import coconut\n",
    "import dataset\n",
    "import json\n",
    "import pandas as pd\n",
    "import re\n",
    "import torch\n",
    "import transformers\n",
    "import tqdm"
   ]
  },
  {
   "cell_type": "code",
   "execution_count": null,
   "metadata": {},
   "outputs": [],
   "source": [
    "MODEL_ARCHITECTURE = \"openai-community/gpt2\"\n",
    "CHECKPOINT = 15\n",
    "GPU_ID = 0\n",
    "MAX_NEW_TOKENS = 100\n",
    "N_SEQUENCES = 15"
   ]
  },
  {
   "cell_type": "code",
   "execution_count": 16,
   "metadata": {},
   "outputs": [],
   "source": [
    "model = transformers.AutoModelForCausalLM.from_pretrained(MODEL_ARCHITECTURE)\n",
    "checkpoint = f\"{REPO_DIRECTORY}/checkpoints/gsm-cot/checkpoint_{CHECKPOINT}\"\n",
    "weights = torch.load(checkpoint, torch.device(GPU_ID), weights_only=False)\n",
    "model.load_state_dict(weights, strict=False)\n",
    "model = model.to(GPU_ID)\n",
    "\n",
    "tokenizer = transformers.AutoTokenizer.from_pretrained(MODEL_ARCHITECTURE)\n",
    "tokenizer.pad_token = tokenizer.eos_token\n",
    "model.generation_config.pad_token_id = tokenizer.pad_token_id"
   ]
  },
  {
   "cell_type": "code",
   "execution_count": 90,
   "metadata": {},
   "outputs": [],
   "source": [
    "with open(f\"{REPO_DIRECTORY}/data/gsm_test.json\") as file:\n",
    "    test_data = json.load(file)"
   ]
  },
  {
   "cell_type": "code",
   "execution_count": 86,
   "metadata": {},
   "outputs": [
    {
     "name": "stderr",
     "output_type": "stream",
     "text": [
      "1319it [09:48,  2.24it/s]\n"
     ]
    }
   ],
   "source": [
    "df = pd.DataFrame()\n",
    "\n",
    "for sample_id, sample in tqdm.tqdm(enumerate(test_data)):\n",
    "\n",
    "    tokens = tokenizer(sample[\"question\"], return_tensors=\"pt\").to(GPU_ID)\n",
    "    outputs = model.generate(\n",
    "        **tokens, \n",
    "        max_new_tokens=MAX_NEW_TOKENS, \n",
    "        num_beams=N_SEQUENCES, \n",
    "        num_return_sequences=N_SEQUENCES,\n",
    "    )\n",
    "\n",
    "    rationales_seen = set()\n",
    "    for output_id, output in enumerate(outputs):\n",
    "        text_output = tokenizer.decode(output)\n",
    "\n",
    "        if \"<|endoftext|>\" not in text_output:\n",
    "            break\n",
    "\n",
    "        rationales = None\n",
    "        match = re.search(r\"<<.*?###\", text_output, re.DOTALL)\n",
    "        if match:\n",
    "            rationales = match.group(0).rstrip(\"\\n###\")\n",
    "        if rationales in rationales_seen:\n",
    "            break\n",
    "        rationales_seen.add(rationales)\n",
    "        answer = re.search(r\"### (.*?)<\\|endoftext\\|>\", text_output).group(1)\n",
    "\n",
    "        entry = pd.DataFrame({\n",
    "            \"Question ID\": sample_id,\n",
    "            \"Chain of Thought ID\": output_id,\n",
    "            \"Question\": sample[\"question\"],\n",
    "            \"Rationales\": rationales,\n",
    "            \"Answer\": answer,\n",
    "            \"Target Rationales\": \"\\n\".join(sample[\"steps\"]),\n",
    "            \"Target Answer\": sample[\"answer\"],\n",
    "            \"Correct\": answer == sample[\"answer\"],\n",
    "            \"Raw Output\": text_output,\n",
    "        }, index=[len(df)])\n",
    "\n",
    "        df = pd.concat([df, entry])\n",
    "\n",
    "\n",
    "group = df.groupby(\"Question ID\")[\"Correct\"].sum()\n",
    "group = group[group > 0]\n",
    "df = df[df[\"Question ID\"].isin(group.index)]"
   ]
  },
  {
   "cell_type": "code",
   "execution_count": 88,
   "metadata": {},
   "outputs": [],
   "source": [
    "directory = f\"./data/chains-of-thoughts/{MODEL_ARCHITECTURE}\"\n",
    "os.makedirs(directory, exist_ok=True)\n",
    "df.to_pickle(f\"{directory}/checkpoint_{CHECKPOINT}.pkl\")"
   ]
  },
  {
   "cell_type": "code",
   "execution_count": 92,
   "metadata": {},
   "outputs": [
    {
     "data": {
      "text/plain": [
       "\"Janet’s ducks lay 16 eggs per day. She eats three for breakfast every morning and bakes muffins for her friends every day with four. She sells the remainder at the farmers' market daily for $2 per fresh duck egg. How much in dollars does she make every day at the farmers' market?\""
      ]
     },
     "execution_count": 92,
     "metadata": {},
     "output_type": "execute_result"
    }
   ],
   "source": [
    "df.iloc[0][\"Question\"]"
   ]
  },
  {
   "cell_type": "code",
   "execution_count": 85,
   "metadata": {},
   "outputs": [
    {
     "data": {
      "text/plain": [
       "array([<Axes: title={'center': 'False'}>,\n",
       "       <Axes: title={'center': 'True'}>], dtype=object)"
      ]
     },
     "execution_count": 85,
     "metadata": {},
     "output_type": "execute_result"
    },
    {
     "data": {
      "image/png": "[encoded data removed]",
      "text/plain": [
       "<Figure size 640x480 with 2 Axes>"
      ]
     },
     "metadata": {},
     "output_type": "display_data"
    }
   ],
   "source": [
    "df2.groupby([\"Question ID\", \"Correct\"]).size().hist(by=\"Correct\")"
   ]
  }
 ],
 "metadata": {
  "kernelspec": {
   "display_name": "coconut-venv",
   "language": "python",
   "name": "coconut-venv"
  },
  "language_info": {
   "codemirror_mode": {
    "name": "ipython",
    "version": 3
   },
   "file_extension": ".py",
   "mimetype": "text/x-python",
   "name": "python",
   "nbconvert_exporter": "python",
   "pygments_lexer": "ipython3",
   "version": "3.10.12"
  },
  "orig_nbformat": 4
 },
 "nbformat": 4,
 "nbformat_minor": 2
}
