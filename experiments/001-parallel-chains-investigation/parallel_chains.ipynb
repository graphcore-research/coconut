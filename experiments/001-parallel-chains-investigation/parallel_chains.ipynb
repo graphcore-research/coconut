{
 "cells": [
  {
   "cell_type": "code",
   "execution_count": 1,
   "metadata": {},
   "outputs": [],
   "source": [
    "import os\n",
    "import sys\n",
    "\n",
    "REPO_DIRECTORY = f\"{os.getcwd()}/../..\"\n",
    "sys.path.append(REPO_DIRECTORY)"
   ]
  },
  {
   "cell_type": "code",
   "execution_count": 2,
   "metadata": {},
   "outputs": [],
   "source": [
    "import coconut\n",
    "import copy\n",
    "import matplotlib.pyplot as plt\n",
    "import numpy as np\n",
    "import pandas as pd\n",
    "import torch\n",
    "import transformers\n",
    "import tqdm"
   ]
  },
  {
   "cell_type": "code",
   "execution_count": 3,
   "metadata": {},
   "outputs": [],
   "source": [
    "MODEL_ARCHITECTURE = \"openai-community/gpt2\"\n",
    "COCONUT_CHECKPOINT = \"/home/ubuntu/nethome/reasoning/git/coconut/YOUR_PATH_TO_SAVE_THE_MODEL/gsm-coconut/checkpoint_4\"\n",
    "# DATA_DIRECTORY = \"./data/chains-of-thoughts/openai-community/gpt2/checkpoint_15.pkl\"\n",
    "DATA_DIRECTORY = \"/home/ubuntu/nethome/reasoning/git/coconut/data/cot_pos_neg.csv\"\n",
    "# COCONUT_CHECKPOINT = \"/home/ubuntu/nethome/reasoning/git/coconut/YOUR_PATH_TO_SAVE_THE_MODEL/gsm-cot/checkpoint_15\"\n",
    "GPU_ID = 0\n",
    "MAX_NEW_TOKENS = 100\n",
    "N_SEQUENCES = 15"
   ]
  },
  {
   "cell_type": "code",
   "execution_count": 4,
   "metadata": {},
   "outputs": [
    {
     "name": "stderr",
     "output_type": "stream",
     "text": [
      "The new embeddings will be initialized from a multivariate normal distribution that has old embeddings' mean and covariance. As described in this article: https://nlp.stanford.edu/~johnhew/vocab-expansion.html. To disable this, use `mean_resizing=False`\n"
     ]
    }
   ],
   "source": [
    "model = transformers.AutoModelForCausalLM.from_pretrained(MODEL_ARCHITECTURE)\n",
    "tokenizer = transformers.AutoTokenizer.from_pretrained(MODEL_ARCHITECTURE)\n",
    "tokenizer.pad_token = tokenizer.eos_token\n",
    "\n",
    "coconut_tokens = [\"<|latent|>\", \"<|start-latent|>\", \"<|end-latent|>\"]\n",
    "tokenizer.add_tokens(coconut_tokens)\n",
    "token_ids = tokenizer.convert_tokens_to_ids(coconut_tokens)\n",
    "\n",
    "model.resize_token_embeddings(len(tokenizer))\n",
    "embeddings = model.get_input_embeddings()\n",
    "target_id = tokenizer.convert_tokens_to_ids(\"<<\")\n",
    "\n",
    "for token_id in token_ids:\n",
    "    target_embedding = embeddings.weight.data[token_id]\n",
    "    embeddings.weight.data[token_id] = target_embedding\n",
    "\n",
    "model = coconut.Coconut(model, *token_ids, tokenizer.eos_token_id)\n",
    "\n",
    "# checkpoint = f\"{REPO_DIRECTORY}/{COCONUT_CHECKPOINT}\"\n",
    "checkpoint = COCONUT_CHECKPOINT\n",
    "weights = torch.load(checkpoint, torch.device(GPU_ID), weights_only=False)\n",
    "model.load_state_dict(weights, strict=False)\n",
    "_ = model.to(GPU_ID)"
   ]
  },
  {
   "cell_type": "code",
   "execution_count": 5,
   "metadata": {},
   "outputs": [],
   "source": [
    "def coconut_next_token_distribution(\n",
    "    model: coconut.Coconut,\n",
    "    input_ids: torch.Tensor,\n",
    "    **kwargs,\n",
    ") -> torch.Tensor:\n",
    "    gen_fwd_cnt = 0\n",
    "\n",
    "    assert input_ids.shape[0] == 1, \"only support batch_size == 1 now\"\n",
    "\n",
    "    outputs = model.forward(\n",
    "        input_ids,\n",
    "        torch.ones_like(input_ids, device=input_ids.device),\n",
    "        input_ids.clone(),\n",
    "        torch.arange(\n",
    "            0, input_ids.shape[1], dtype=torch.long, device=input_ids.device\n",
    "        ).reshape(1, -1),\n",
    "        **kwargs,\n",
    "    )\n",
    "\n",
    "    return torch.nn.functional.softmax(outputs.logits[:, -1], dim=1)"
   ]
  },
  {
   "cell_type": "code",
   "execution_count": 10,
   "metadata": {},
   "outputs": [
    {
     "name": "stderr",
     "output_type": "stream",
     "text": [
      "Question range:  16%|█▌        | 211/1319 [04:43<24:46,  1.34s/it]  \n"
     ]
    },
    {
     "ename": "AttributeError",
     "evalue": "'float' object has no attribute 'split'",
     "output_type": "error",
     "traceback": [
      "\u001b[0;31m---------------------------------------------------------------------------\u001b[0m",
      "\u001b[0;31mAttributeError\u001b[0m                            Traceback (most recent call last)",
      "Cell \u001b[0;32mIn[10], line 18\u001b[0m\n\u001b[1;32m     14\u001b[0m _df \u001b[38;5;241m=\u001b[39m df[df\u001b[38;5;241m.\u001b[39mq_idx \u001b[38;5;241m==\u001b[39m q_idx]\n\u001b[1;32m     17\u001b[0m \u001b[38;5;28;01mfor\u001b[39;00m _, entry \u001b[38;5;129;01min\u001b[39;00m [\u001b[38;5;241m*\u001b[39m_df\u001b[38;5;241m.\u001b[39miterrows()]:\n\u001b[0;32m---> 18\u001b[0m     steps \u001b[38;5;241m=\u001b[39m [\u001b[38;5;124mf\u001b[39m\u001b[38;5;124m\"\u001b[39m\u001b[38;5;124m<<\u001b[39m\u001b[38;5;132;01m{\u001b[39;00ms\u001b[38;5;132;01m}\u001b[39;00m\u001b[38;5;124m>>\u001b[39m\u001b[38;5;130;01m\\n\u001b[39;00m\u001b[38;5;124m\"\u001b[39m \u001b[38;5;28;01mfor\u001b[39;00m s \u001b[38;5;129;01min\u001b[39;00m \u001b[43mentry\u001b[49m\u001b[43m[\u001b[49m\u001b[38;5;124;43m\"\u001b[39;49m\u001b[38;5;124;43mpred_steps\u001b[39;49m\u001b[38;5;124;43m\"\u001b[39;49m\u001b[43m]\u001b[49m\u001b[38;5;241;43m.\u001b[39;49m\u001b[43msplit\u001b[49m(\u001b[38;5;124m\"\u001b[39m\u001b[38;5;124m,\u001b[39m\u001b[38;5;124m\"\u001b[39m)]\n\u001b[1;32m     20\u001b[0m     \u001b[38;5;66;03m# Error handling stuff\u001b[39;00m\n\u001b[1;32m     21\u001b[0m     \u001b[38;5;28;01mif\u001b[39;00m \u001b[38;5;28mlen\u001b[39m(steps) \u001b[38;5;241m<\u001b[39m\u001b[38;5;241m=\u001b[39m n_latents:\n",
      "\u001b[0;31mAttributeError\u001b[0m: 'float' object has no attribute 'split'"
     ]
    }
   ],
   "source": [
    "LATENT_RANGE = (1, 5)\n",
    "QUESTION_RANGE = None # None means all questions\n",
    "\n",
    "df = pd.read_csv(f\"{DATA_DIRECTORY}\")\n",
    "results = pd.DataFrame()\n",
    "\n",
    "q_idxs = [*set(df[\"q_idx\"])] if QUESTION_RANGE is None else range(*QUESTION_RANGE)\n",
    "\n",
    "df = df[~df[\"correct_anwser\"].isna()]\n",
    "df = df[~df[\"pred_anwser\"].isna()]\n",
    "\n",
    "for n_latents in range(*LATENT_RANGE):\n",
    "    for q_idx in tqdm.tqdm(q_idxs, desc=\"Question range\"):\n",
    "        _df = df[df.q_idx == q_idx]\n",
    "\n",
    "\n",
    "        for _, entry in [*_df.iterrows()]:\n",
    "            try:\n",
    "                steps = [f\"<<{s}>>\\n\" for s in entry[\"pred_steps\"].split(\",\")]\n",
    "            except:\n",
    "                print(entry[\"pred_steps\"])\n",
    "            \n",
    "            # Error handling stuff\n",
    "            if len(steps) <= n_latents:\n",
    "                continue\n",
    "\n",
    "\n",
    "            question = entry[\"question\"]\n",
    "            question += \"<|start-latent|>\" + \"<|latent|>\" * n_latents + \"<|end-latent|>\"\n",
    "\n",
    "            target = question + \"\".join(steps[n_latents:])\n",
    "            target += \"###\" + str(int(entry[\"pred_anwser\"]))\n",
    "\n",
    "            q_sequence = tokenizer(question, return_tensors=\"pt\").to(GPU_ID)[\"input_ids\"].squeeze()\n",
    "            t_sequence = tokenizer(target, return_tensors=\"pt\").to(GPU_ID)[\"input_ids\"].squeeze()\n",
    "\n",
    "\n",
    "            token_ids = range(len(q_sequence), len(t_sequence))\n",
    "\n",
    "            log_product = 0\n",
    "            for token_id in token_ids:\n",
    "                model_input = torch.stack([t_sequence[:token_id]])\n",
    "                distribution = coconut_next_token_distribution(model, model_input)\n",
    "                distribution = distribution.squeeze().cpu().detach().numpy()\n",
    "\n",
    "                target_token = int(t_sequence[token_id])\n",
    "                prob = np.log2(distribution[target_token])\n",
    "\n",
    "                log_product += prob\n",
    "\n",
    "\n",
    "\n",
    "            # geometric_mean = product ** (1 / len(token_ids))\n",
    "            geometric_mean = 2 ** (log_product / len(token_ids))\n",
    "\n",
    "            results = pd.concat([\n",
    "                results,\n",
    "                pd.DataFrame([{\n",
    "                    \"q_idx\": q_idx, \n",
    "                    \"log_product\": log_product,\n",
    "                    \"geometric_mean\": geometric_mean,\n",
    "                    \"correct\": entry[\"correct_anwser\"],\n",
    "                    \"solution_length\": len(token_ids),\n",
    "                    \"n_latents\": n_latents,\n",
    "                }]),\n",
    "            ])"
   ]
  },
  {
   "cell_type": "code",
   "execution_count": 7,
   "metadata": {},
   "outputs": [
    {
     "data": {
      "text/plain": [
       "<Axes: xlabel='n_latents,correct'>"
      ]
     },
     "execution_count": 7,
     "metadata": {},
     "output_type": "execute_result"
    },
    {
     "data": {
      "image/png": "[encoded data removed]",
      "text/plain": [
       "<Figure size 640x480 with 1 Axes>"
      ]
     },
     "metadata": {},
     "output_type": "display_data"
    }
   ],
   "source": [
    "pd.options.display.max_rows = 1000\n",
    "results.groupby(['n_latents', 'correct',])['geometric_mean'].agg(['mean', 'std']).plot.bar(y='mean')"
   ]
  },
  {
   "cell_type": "code",
   "execution_count": 8,
   "metadata": {},
   "outputs": [],
   "source": [
    "num = results.groupby(['q_idx','correct','n_latents']).size().unstack('correct')\n",
    "filtern = num[(num[False]>=2)&(num[True]>=2)]\n",
    "filtern\n",
    "\n",
    "results_filter = results.groupby(['q_idx','n_latents', 'correct'])['geometric_mean'].mean().reset_index()\n",
    "results_filter = results_filter.merge(filtern.reset_index()[['q_idx','n_latents']])\n",
    "#results_filter = results_filter.pivot(columns='correct', index=['q_idx','n_latents'], values='geometric_mean')"
   ]
  },
  {
   "cell_type": "code",
   "execution_count": 9,
   "metadata": {},
   "outputs": [
    {
     "data": {
      "text/plain": [
       "<Axes: xlabel='n_latents,correct'>"
      ]
     },
     "execution_count": 9,
     "metadata": {},
     "output_type": "execute_result"
    },
    {
     "data": {
      "image/png": "[encoded data removed]",
      "text/plain": [
       "<Figure size 640x480 with 1 Axes>"
      ]
     },
     "metadata": {},
     "output_type": "display_data"
    }
   ],
   "source": [
    "results_filter.groupby(['n_latents','correct'])['geometric_mean'].mean().plot.bar()"
   ]
  },
  {
   "cell_type": "code",
   "execution_count": null,
   "metadata": {},
   "outputs": [],
   "source": []
  }
 ],
 "metadata": {
  "kernelspec": {
   "display_name": "coconut-venv",
   "language": "python",
   "name": "coconut-venv"
  },
  "language_info": {
   "codemirror_mode": {
    "name": "ipython",
    "version": 3
   },
   "file_extension": ".py",
   "mimetype": "text/x-python",
   "name": "python",
   "nbconvert_exporter": "python",
   "pygments_lexer": "ipython3",
   "version": "3.12.8"
  },
  "orig_nbformat": 4
 },
 "nbformat": 4,
 "nbformat_minor": 2
}
