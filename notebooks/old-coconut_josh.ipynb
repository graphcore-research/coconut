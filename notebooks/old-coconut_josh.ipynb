{
 "cells": [
  {
   "cell_type": "code",
   "execution_count": 1,
   "id": "64192d02-f0c7-40b2-8f1d-4c50de5560b2",
   "metadata": {},
   "outputs": [],
   "source": [
    "from transformers import AutoModelForCausalLM, AutoTokenizer\n",
    "from coconut import Coconut\n",
    "import torch"
   ]
  },
  {
   "cell_type": "code",
   "execution_count": 6,
   "id": "dbc5e4fa-6c95-48de-bda7-a921fa224bd3",
   "metadata": {},
   "outputs": [],
   "source": [
    "model = AutoModelForCausalLM.from_pretrained('openai-community/gpt2')\n",
    "tokenizer = AutoTokenizer.from_pretrained('openai-community/gpt2')\n",
    "tokenizer.pad_token = tokenizer.eos_token\n",
    "tokenizer.add_tokens(\"<|start-latent|>\")\n",
    "tokenizer.add_tokens(\"<|end-latent|>\")\n",
    "tokenizer.add_tokens(\"<|latent|>\")\n",
    "latent_id = tokenizer.convert_tokens_to_ids(\"<|latent|>\")\n",
    "start_id = tokenizer.convert_tokens_to_ids(\"<|start-latent|>\")\n",
    "end_id = tokenizer.convert_tokens_to_ids(\"<|end-latent|>\")"
   ]
  },
  {
   "cell_type": "code",
   "execution_count": 7,
   "id": "349115e3-96e5-4589-95ff-66fe1809be2a",
   "metadata": {},
   "outputs": [
    {
     "name": "stderr",
     "output_type": "stream",
     "text": [
      "The new embeddings will be initialized from a multivariate normal distribution that has old embeddings' mean and covariance. As described in this article: https://nlp.stanford.edu/~johnhew/vocab-expansion.html. To disable this, use `mean_resizing=False`\n"
     ]
    }
   ],
   "source": [
    "# if we need new tokens, initialize their embeddings and lm heads\n",
    "model.resize_token_embeddings(len(tokenizer))\n",
    "embeddings = model.get_input_embeddings()\n",
    "target_id = tokenizer.convert_tokens_to_ids(\"<<\")\n",
    "# initialize the new token embeddings with a known token\n",
    "# it helps stablize the training\n",
    "for token_id in [latent_id, start_id, end_id]:\n",
    "    target_embedding = embeddings.weight.data[token_id]\n",
    "    embeddings.weight.data[token_id] = target_embedding\n",
    "    # The input embeddings and lm heads are tied in GPT2. So the code below is not necessary\n",
    "    lm_head = model.lm_head\n",
    "    lm_head.weight.data[token_id] = lm_head.weight.data[target_id]"
   ]
  },
  {
   "cell_type": "code",
   "execution_count": 8,
   "id": "1ebc7001-5bed-4881-a28c-6fd9016af357",
   "metadata": {},
   "outputs": [],
   "source": [
    "model = Coconut(model, latent_id, start_id, end_id, tokenizer.eos_token_id)"
   ]
  },
  {
   "cell_type": "code",
   "execution_count": 10,
   "id": "8e6dbf65-8b40-4677-842f-ded2d6e41842",
   "metadata": {},
   "outputs": [
    {
     "name": "stderr",
     "output_type": "stream",
     "text": [
      "/tmp/ipykernel_87375/4013994978.py:1: FutureWarning: You are using `torch.load` with `weights_only=False` (the current default value), which uses the default pickle module implicitly. It is possible to construct malicious pickle data which will execute arbitrary code during unpickling (See https://github.com/pytorch/pytorch/blob/main/SECURITY.md#untrusted-models for more details). In a future release, the default value for `weights_only` will be flipped to `True`. This limits the functions that could be executed during unpickling. Arbitrary objects will no longer be allowed to be loaded via this mode unless they are explicitly allowlisted by the user via `torch.serialization.add_safe_globals`. We recommend you start setting `weights_only=True` for any use case where you don't have full control of the loaded file. Please open an issue on GitHub for any issues related to this experimental feature.\n",
      "  saved_weights = torch.load(\n"
     ]
    },
    {
     "data": {
      "text/plain": [
       "<All keys matched successfully>"
      ]
     },
     "execution_count": 10,
     "metadata": {},
     "output_type": "execute_result"
    }
   ],
   "source": [
    "saved_weights = torch.load(\n",
    "    'YOUR_PATH_TO_SAVE_THE_MODEL/gsm-coconut/checkpoint_25', map_location=torch.device(0)\n",
    ")\n",
    "model.load_state_dict(saved_weights, strict=False)"
   ]
  },
  {
   "cell_type": "code",
   "execution_count": 12,
   "id": "f8ef7643-9cd0-4890-8e3b-a79fe3b73e44",
   "metadata": {},
   "outputs": [],
   "source": [
    "model = model.to(0)"
   ]
  },
  {
   "cell_type": "code",
   "execution_count": 13,
   "id": "3050529e-d6d0-4a93-9f55-43cf1280188a",
   "metadata": {},
   "outputs": [
    {
     "data": {
      "text/plain": [
       "Coconut(\n",
       "  (base_causallm): GPT2LMHeadModel(\n",
       "    (transformer): GPT2Model(\n",
       "      (wte): Embedding(50260, 768)\n",
       "      (wpe): Embedding(1024, 768)\n",
       "      (drop): Dropout(p=0.1, inplace=False)\n",
       "      (h): ModuleList(\n",
       "        (0-11): 12 x GPT2Block(\n",
       "          (ln_1): LayerNorm((768,), eps=1e-05, elementwise_affine=True)\n",
       "          (attn): GPT2SdpaAttention(\n",
       "            (c_attn): Conv1D(nf=2304, nx=768)\n",
       "            (c_proj): Conv1D(nf=768, nx=768)\n",
       "            (attn_dropout): Dropout(p=0.1, inplace=False)\n",
       "            (resid_dropout): Dropout(p=0.1, inplace=False)\n",
       "          )\n",
       "          (ln_2): LayerNorm((768,), eps=1e-05, elementwise_affine=True)\n",
       "          (mlp): GPT2MLP(\n",
       "            (c_fc): Conv1D(nf=3072, nx=768)\n",
       "            (c_proj): Conv1D(nf=768, nx=3072)\n",
       "            (act): NewGELUActivation()\n",
       "            (dropout): Dropout(p=0.1, inplace=False)\n",
       "          )\n",
       "        )\n",
       "      )\n",
       "      (ln_f): LayerNorm((768,), eps=1e-05, elementwise_affine=True)\n",
       "    )\n",
       "    (lm_head): Linear(in_features=768, out_features=50260, bias=False)\n",
       "  )\n",
       "  (embedding): Embedding(50260, 768)\n",
       ")"
      ]
     },
     "execution_count": 13,
     "metadata": {},
     "output_type": "execute_result"
    }
   ],
   "source": [
    "model"
   ]
  },
  {
   "cell_type": "code",
   "execution_count": 76,
   "id": "a1d6b046-f356-451c-8e2b-b026d756e331",
   "metadata": {},
   "outputs": [
    {
     "data": {
      "text/plain": [
       "'I have 7 apples and I gave Luke 3 apples and he gives Paul 2 apples. How many apples do I have?### 4'"
      ]
     },
     "execution_count": 76,
     "metadata": {},
     "output_type": "execute_result"
    }
   ],
   "source": [
    "tokens = tokenizer(\"I have 7 apples and I gave Luke 3 apples and he gives Paul 2 apples. How many apples do I have?\")\n",
    "output = model.generate(\n",
    "    torch.tensor(tokens['input_ids'], device='cuda:0').unsqueeze(0),\n",
    "    torch.tensor(tokens['attention_mask'], device='cuda:0').unsqueeze(0),\n",
    ")\n",
    "tokenizer.decode(output[0])"
   ]
  },
  {
   "cell_type": "code",
   "execution_count": 56,
   "id": "f34983e1-c44d-4241-b387-ce85155fbcf3",
   "metadata": {},
   "outputs": [
    {
     "data": {
      "text/plain": [
       "tensor([   40,   423,   767, 22514,   290,   314,  2921, 11336,   513, 22514,\n",
       "          290,   339,  3607,  3362,   362, 22514,    13,  1374,   867, 22514,\n",
       "          466,   314,   423,    30, 21017,   604])"
      ]
     },
     "execution_count": 56,
     "metadata": {},
     "output_type": "execute_result"
    }
   ],
   "source": [
    "output[0]"
   ]
  },
  {
   "cell_type": "code",
   "execution_count": 52,
   "id": "3f5de49a-49d0-4997-a470-ddcfed066c91",
   "metadata": {},
   "outputs": [
    {
     "name": "stderr",
     "output_type": "stream",
     "text": [
      "/tmp/ipykernel_87375/1379065800.py:2: FutureWarning: You are using `torch.load` with `weights_only=False` (the current default value), which uses the default pickle module implicitly. It is possible to construct malicious pickle data which will execute arbitrary code during unpickling (See https://github.com/pytorch/pytorch/blob/main/SECURITY.md#untrusted-models for more details). In a future release, the default value for `weights_only` will be flipped to `True`. This limits the functions that could be executed during unpickling. Arbitrary objects will no longer be allowed to be loaded via this mode unless they are explicitly allowlisted by the user via `torch.serialization.add_safe_globals`. We recommend you start setting `weights_only=True` for any use case where you don't have full control of the loaded file. Please open an issue on GitHub for any issues related to this experimental feature.\n",
      "  saved_weights = torch.load(\n"
     ]
    }
   ],
   "source": [
    "model_cot = AutoModelForCausalLM.from_pretrained('openai-community/gpt2')\n",
    "saved_weights = torch.load(\n",
    "    'YOUR_PATH_TO_SAVE_THE_MODEL/gsm-cot/checkpoint_15', map_location=torch.device(0)\n",
    ")\n",
    "model_cot.load_state_dict(saved_weights, strict=False)\n",
    "model_cot = model_cot.to(0)"
   ]
  },
  {
   "cell_type": "code",
   "execution_count": 53,
   "id": "93d19cae-a0c5-4f2f-8abe-f3026c83f1b1",
   "metadata": {},
   "outputs": [],
   "source": [
    "tokenizer_cot = AutoTokenizer.from_pretrained('openai-community/gpt2')\n",
    "#tokenizer.pad_token = tokenizer.eos_token"
   ]
  },
  {
   "cell_type": "code",
   "execution_count": 78,
   "id": "a0ffaa29-1c21-451e-af27-e2dcdacdf90c",
   "metadata": {},
   "outputs": [
    {
     "name": "stderr",
     "output_type": "stream",
     "text": [
      "Setting `pad_token_id` to `eos_token_id`:None for open-end generation.\n"
     ]
    },
    {
     "name": "stdout",
     "output_type": "stream",
     "text": [
      "I have 7 apples and I gave Luke 3 apples and he gives Paul 2 apples. How many apples do I have?\n",
      "<<3+2=5>>\n",
      "<<7+5=12>>\n",
      "### 12<|endoftext|>\n",
      "\n",
      "I have 7 apples and I gave Luke 3 apples and he gives Paul 2 apples. How many apples do I have?\n",
      "<<3+2=5>>\n",
      "<<7-5=2>>\n",
      "### 2<|endoftext|>\n",
      "\n",
      "I have 7 apples and I gave Luke 3 apples and he gives Paul 2 apples. How many apples do I have?\n",
      "<<7-3-2=2>>\n",
      "### 2<|endoftext|><|endoftext|><|endoftext|><|endoftext|><|endoftext|><|endoftext|><|endoftext|>\n",
      "\n",
      "I have 7 apples and I gave Luke 3 apples and he gives Paul 2 apples. How many apples do I have?\n",
      "<<7-3=4>>\n",
      "<<4-2=2>>\n",
      "### 2<|endoftext|>\n",
      "\n",
      "I have 7 apples and I gave Luke 3 apples and he gives Paul 2 apples. How many apples do I have?<<3+2=5>>\n",
      "<<7-5=2>>\n",
      "### 2<|endoftext|><|endoftext|>\n"
     ]
    }
   ],
   "source": [
    "tokens = tokenizer_cot(\"I have 7 apples and I gave Luke 3 apples and he gives Paul 2 apples. How many apples do I have?\")\n",
    "output = model_cot.generate(\n",
    "    torch.tensor(tokens['input_ids'], device='cuda:0').unsqueeze(0),\n",
    "    attention_mask=torch.tensor(tokens['attention_mask'], device='cuda:0').unsqueeze(0),\n",
    "    max_new_tokens=40,\n",
    "    num_beams=5,\n",
    "    num_return_sequences=5,\n",
    ")\n",
    "print('\\n\\n'.join(tokenizer_cot.decode(out) for out in output))"
   ]
  },
  {
   "cell_type": "code",
   "execution_count": 68,
   "id": "72073159-870f-4a33-81d8-ef36ff610fe6",
   "metadata": {},
   "outputs": [
    {
     "data": {
      "text/plain": [
       "tensor([[   40,   423,   767, 22514,   290,   314,  2921, 11336,   513, 22514,\n",
       "           290,   339,  3607,  3362,   362, 22514,    13,  1374,   867, 22514,\n",
       "           466,   314,   423,    30,   198, 16791,    18,    10,    17,    28,\n",
       "            20,  4211,   198, 16791,    22,    10,    20,    28,  1065,  4211,\n",
       "           198, 21017,  1105, 50256],\n",
       "        [   40,   423,   767, 22514,   290,   314,  2921, 11336,   513, 22514,\n",
       "           290,   339,  3607,  3362,   362, 22514,    13,  1374,   867, 22514,\n",
       "           466,   314,   423,    30,   198, 16791,    18,    10,    17,    28,\n",
       "            20,  4211,   198, 16791,    22,    12,    20,    28,    17,  4211,\n",
       "           198, 21017,   362, 50256],\n",
       "        [   40,   423,   767, 22514,   290,   314,  2921, 11336,   513, 22514,\n",
       "           290,   339,  3607,  3362,   362, 22514,    13,  1374,   867, 22514,\n",
       "           466,   314,   423,    30,   198, 16791,    22,    12,    18,    12,\n",
       "            17,    28,    17,  4211,   198, 21017,   362, 50256, 50256, 50256,\n",
       "         50256, 50256, 50256, 50256],\n",
       "        [   40,   423,   767, 22514,   290,   314,  2921, 11336,   513, 22514,\n",
       "           290,   339,  3607,  3362,   362, 22514,    13,  1374,   867, 22514,\n",
       "           466,   314,   423,    30,   198, 16791,    22,    12,    18,    28,\n",
       "            19,  4211,   198, 16791,    19,    12,    17,    28,    17,  4211,\n",
       "           198, 21017,   362, 50256],\n",
       "        [   40,   423,   767, 22514,   290,   314,  2921, 11336,   513, 22514,\n",
       "           290,   339,  3607,  3362,   362, 22514,    13,  1374,   867, 22514,\n",
       "           466,   314,   423,    30, 16791,    18,    10,    17,    28,    20,\n",
       "          4211,   198, 16791,    22,    12,    20,    28,    17,  4211,   198,\n",
       "         21017,   362, 50256, 50256]], device='cuda:0')"
      ]
     },
     "execution_count": 68,
     "metadata": {},
     "output_type": "execute_result"
    }
   ],
   "source": [
    "output"
   ]
  },
  {
   "cell_type": "code",
   "execution_count": 47,
   "id": "ab3f4528-1f2a-4ba1-8872-978bf413a7a7",
   "metadata": {},
   "outputs": [
    {
     "data": {
      "text/plain": [
       "tensor([[[-10.4375, -10.1337, -11.9935,  ..., -14.0181, -14.0241,  -7.5947],\n",
       "         [-43.2610, -48.4011, -51.0240,  ..., -50.1080, -48.0704, -42.8104],\n",
       "         [-34.1602, -33.7282, -40.7938,  ..., -41.7564, -39.8034, -29.6038],\n",
       "         ...,\n",
       "         [-46.7081, -45.7510, -48.9980,  ..., -54.1231, -53.9510, -43.4509],\n",
       "         [-48.9440, -48.5899, -51.6528,  ..., -54.6584, -55.6218, -43.4965],\n",
       "         [-39.4913, -37.9772, -41.3923,  ..., -45.1985, -43.9517, -25.0955]]],\n",
       "       device='cuda:0', grad_fn=<UnsafeViewBackward0>)"
      ]
     },
     "execution_count": 47,
     "metadata": {},
     "output_type": "execute_result"
    }
   ],
   "source": [
    "output['logits']"
   ]
  },
  {
   "cell_type": "code",
   "execution_count": null,
   "id": "47bf378f-2599-4f00-84dc-9778b348703a",
   "metadata": {},
   "outputs": [],
   "source": []
  }
 ],
 "metadata": {
  "kernelspec": {
   "display_name": "Python 3 (ipykernel)",
   "language": "python",
   "name": "python3"
  },
  "language_info": {
   "codemirror_mode": {
    "name": "ipython",
    "version": 3
   },
   "file_extension": ".py",
   "mimetype": "text/x-python",
   "name": "python",
   "nbconvert_exporter": "python",
   "pygments_lexer": "ipython3",
   "version": "3.12.8"
  }
 },
 "nbformat": 4,
 "nbformat_minor": 5
}
