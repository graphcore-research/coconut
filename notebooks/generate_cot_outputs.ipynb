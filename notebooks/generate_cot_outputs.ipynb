{
 "cells": [
  {
   "cell_type": "code",
   "execution_count": 4,
   "id": "75e4fe06",
   "metadata": {},
   "outputs": [],
   "source": [
    "import os\n",
    "import sys\n",
    "\n",
    "sys.path.append(f\"{os.getcwd()}/..\")"
   ]
  },
  {
   "cell_type": "code",
   "execution_count": 3,
   "id": "aea8619a-7442-4195-a483-2b8616595ad2",
   "metadata": {},
   "outputs": [],
   "source": [
    "from transformers import AutoModelForCausalLM, AutoTokenizer\n",
    "from coconut import Coconut\n",
    "import torch\n",
    "from dataset import (\n",
    "    get_dataset,\n",
    "    get_question_latent_dataset,\n",
    "    get_cot_latent_dataset,\n",
    "    MyCollator,\n",
    ")\n",
    "import json\n",
    "from tqdm import tqdm_notebook as tqdm\n",
    "import re\n",
    "import pandas as pd\n",
    "pd.options.display.max_colwidth = 100"
   ]
  },
  {
   "cell_type": "code",
   "execution_count": 6,
   "id": "6381ce12-fbdc-4e95-b408-3e024c361fb5",
   "metadata": {},
   "outputs": [
    {
     "name": "stderr",
     "output_type": "stream",
     "text": [
      "/tmp/ipykernel_7767/4241707443.py:2: FutureWarning: You are using `torch.load` with `weights_only=False` (the current default value), which uses the default pickle module implicitly. It is possible to construct malicious pickle data which will execute arbitrary code during unpickling (See https://github.com/pytorch/pytorch/blob/main/SECURITY.md#untrusted-models for more details). In a future release, the default value for `weights_only` will be flipped to `True`. This limits the functions that could be executed during unpickling. Arbitrary objects will no longer be allowed to be loaded via this mode unless they are explicitly allowlisted by the user via `torch.serialization.add_safe_globals`. We recommend you start setting `weights_only=True` for any use case where you don't have full control of the loaded file. Please open an issue on GitHub for any issues related to this experimental feature.\n",
      "  saved_weights = torch.load(\n"
     ]
    },
    {
     "ename": "FileNotFoundError",
     "evalue": "[Errno 2] No such file or directory: 'checkpoints/gsm-cot/checkpoint_15'",
     "output_type": "error",
     "traceback": [
      "\u001b[0;31m---------------------------------------------------------------------------\u001b[0m",
      "\u001b[0;31mFileNotFoundError\u001b[0m                         Traceback (most recent call last)",
      "Cell \u001b[0;32mIn[6], line 2\u001b[0m\n\u001b[1;32m      1\u001b[0m model_cot \u001b[38;5;241m=\u001b[39m AutoModelForCausalLM\u001b[38;5;241m.\u001b[39mfrom_pretrained(\u001b[38;5;124m'\u001b[39m\u001b[38;5;124mopenai-community/gpt2\u001b[39m\u001b[38;5;124m'\u001b[39m)\n\u001b[0;32m----> 2\u001b[0m saved_weights \u001b[38;5;241m=\u001b[39m \u001b[43mtorch\u001b[49m\u001b[38;5;241;43m.\u001b[39;49m\u001b[43mload\u001b[49m\u001b[43m(\u001b[49m\n\u001b[1;32m      3\u001b[0m \u001b[43m    \u001b[49m\u001b[38;5;124;43m'\u001b[39;49m\u001b[38;5;124;43mcheckpoints/gsm-cot/checkpoint_15\u001b[39;49m\u001b[38;5;124;43m'\u001b[39;49m\u001b[43m,\u001b[49m\u001b[43m \u001b[49m\u001b[43mmap_location\u001b[49m\u001b[38;5;241;43m=\u001b[39;49m\u001b[43mtorch\u001b[49m\u001b[38;5;241;43m.\u001b[39;49m\u001b[43mdevice\u001b[49m\u001b[43m(\u001b[49m\u001b[38;5;241;43m0\u001b[39;49m\u001b[43m)\u001b[49m\n\u001b[1;32m      4\u001b[0m \u001b[43m)\u001b[49m\n\u001b[1;32m      5\u001b[0m model_cot\u001b[38;5;241m.\u001b[39mload_state_dict(saved_weights, strict\u001b[38;5;241m=\u001b[39m\u001b[38;5;28;01mFalse\u001b[39;00m)\n\u001b[1;32m      6\u001b[0m model_cot \u001b[38;5;241m=\u001b[39m model_cot\u001b[38;5;241m.\u001b[39mto(\u001b[38;5;241m0\u001b[39m)\n",
      "File \u001b[0;32m~/nethome-us-east-1/reasoning/coconut/.venv/lib/python3.10/site-packages/torch/serialization.py:1319\u001b[0m, in \u001b[0;36mload\u001b[0;34m(f, map_location, pickle_module, weights_only, mmap, **pickle_load_args)\u001b[0m\n\u001b[1;32m   1316\u001b[0m \u001b[39mif\u001b[39;00m \u001b[39m\"\u001b[39m\u001b[39mencoding\u001b[39m\u001b[39m\"\u001b[39m \u001b[39mnot\u001b[39;00m \u001b[39min\u001b[39;00m pickle_load_args\u001b[39m.\u001b[39mkeys():\n\u001b[1;32m   1317\u001b[0m     pickle_load_args[\u001b[39m\"\u001b[39m\u001b[39mencoding\u001b[39m\u001b[39m\"\u001b[39m] \u001b[39m=\u001b[39m \u001b[39m\"\u001b[39m\u001b[39mutf-8\u001b[39m\u001b[39m\"\u001b[39m\n\u001b[0;32m-> 1319\u001b[0m \u001b[39mwith\u001b[39;00m _open_file_like(f, \u001b[39m\"\u001b[39;49m\u001b[39mrb\u001b[39;49m\u001b[39m\"\u001b[39;49m) \u001b[39mas\u001b[39;00m opened_file:\n\u001b[1;32m   1320\u001b[0m     \u001b[39mif\u001b[39;00m _is_zipfile(opened_file):\n\u001b[1;32m   1321\u001b[0m         \u001b[39m# The zipfile reader is going to advance the current file position.\u001b[39;00m\n\u001b[1;32m   1322\u001b[0m         \u001b[39m# If we want to actually tail call to torch.jit.load, we need to\u001b[39;00m\n\u001b[1;32m   1323\u001b[0m         \u001b[39m# reset back to the original position.\u001b[39;00m\n\u001b[1;32m   1324\u001b[0m         orig_position \u001b[39m=\u001b[39m opened_file\u001b[39m.\u001b[39mtell()\n",
      "File \u001b[0;32m~/nethome-us-east-1/reasoning/coconut/.venv/lib/python3.10/site-packages/torch/serialization.py:659\u001b[0m, in \u001b[0;36m_open_file_like\u001b[0;34m(name_or_buffer, mode)\u001b[0m\n\u001b[1;32m    657\u001b[0m \u001b[39mdef\u001b[39;00m\u001b[39m \u001b[39m\u001b[39m_open_file_like\u001b[39m(name_or_buffer, mode):\n\u001b[1;32m    658\u001b[0m     \u001b[39mif\u001b[39;00m _is_path(name_or_buffer):\n\u001b[0;32m--> 659\u001b[0m         \u001b[39mreturn\u001b[39;00m _open_file(name_or_buffer, mode)\n\u001b[1;32m    660\u001b[0m     \u001b[39melse\u001b[39;00m:\n\u001b[1;32m    661\u001b[0m         \u001b[39mif\u001b[39;00m \u001b[39m\"\u001b[39m\u001b[39mw\u001b[39m\u001b[39m\"\u001b[39m \u001b[39min\u001b[39;00m mode:\n",
      "File \u001b[0;32m~/nethome-us-east-1/reasoning/coconut/.venv/lib/python3.10/site-packages/torch/serialization.py:640\u001b[0m, in \u001b[0;36m_open_file.__init__\u001b[0;34m(self, name, mode)\u001b[0m\n\u001b[1;32m    639\u001b[0m \u001b[39mdef\u001b[39;00m\u001b[39m \u001b[39m\u001b[39m__init__\u001b[39m(\u001b[39mself\u001b[39m, name, mode):\n\u001b[0;32m--> 640\u001b[0m     \u001b[39msuper\u001b[39m()\u001b[39m.\u001b[39m\u001b[39m__init__\u001b[39m(\u001b[39mopen\u001b[39;49m(name, mode))\n",
      "\u001b[0;31mFileNotFoundError\u001b[0m: [Errno 2] No such file or directory: 'checkpoints/gsm-cot/checkpoint_15'"
     ]
    }
   ],
   "source": [
    "model_cot = AutoModelForCausalLM.from_pretrained('openai-community/gpt2')\n",
    "saved_weights = torch.load(\n",
    "    'checkpoints/gsm-cot/checkpoint_15', map_location=torch.device(0)\n",
    ")\n",
    "model_cot.load_state_dict(saved_weights, strict=False)\n",
    "model_cot = model_cot.to(0)\n",
    "\n",
    "tokenizer_cot = AutoTokenizer.from_pretrained('openai-community/gpt2')\n",
    "tokenizer_cot.pad_token = tokenizer_cot.eos_token\n",
    "model_cot.generation_config.pad_token_id = tokenizer_cot.pad_token_id"
   ]
  },
  {
   "cell_type": "code",
   "execution_count": null,
   "id": "1fd712a5-888c-43ef-b816-93e3164f9058",
   "metadata": {},
   "outputs": [],
   "source": [
    "with open('data/gsm_test.json') as f:\n",
    "    test_data = json.load(f)"
   ]
  },
  {
   "cell_type": "code",
   "execution_count": null,
   "id": "ee8ddd2b-8f79-4ce2-adec-09038e2254a8",
   "metadata": {},
   "outputs": [
    {
     "data": {
      "text/plain": [
       "{'question': \"Janet’s ducks lay 16 eggs per day. She eats three for breakfast every morning and bakes muffins for her friends every day with four. She sells the remainder at the farmers' market daily for $2 per fresh duck egg. How much in dollars does she make every day at the farmers' market?\",\n",
       " 'steps': ['<<16-3-4=9>>', '<<9*2=18>>'],\n",
       " 'answer': '18'}"
      ]
     },
     "execution_count": 7,
     "metadata": {},
     "output_type": "execute_result"
    }
   ],
   "source": [
    "test_data[0]"
   ]
  },
  {
   "cell_type": "code",
   "execution_count": null,
   "id": "cf60a129-7985-4a0c-8b76-1e8fb92c51fa",
   "metadata": {},
   "outputs": [],
   "source": [
    "N_SEQUENCES = 15"
   ]
  },
  {
   "cell_type": "code",
   "execution_count": null,
   "id": "e9e5f301-fe77-402e-b4c0-a0f67513779e",
   "metadata": {},
   "outputs": [
    {
     "name": "stderr",
     "output_type": "stream",
     "text": [
      "/tmp/ipykernel_136345/260438643.py:2: TqdmDeprecationWarning: This function will be removed in tqdm==5.0.0\n",
      "Please use `tqdm.notebook.tqdm` instead of `tqdm.tqdm_notebook`\n",
      "  for q_idx, d in enumerate(tqdm(test_data)):\n"
     ]
    },
    {
     "data": {
      "application/vnd.jupyter.widget-view+json": {
       "model_id": "9cfa58fd6f904143bc10dc201c92b303",
       "version_major": 2,
       "version_minor": 0
      },
      "text/plain": [
       "  0%|          | 0/1319 [00:00<?, ?it/s]"
      ]
     },
     "metadata": {},
     "output_type": "display_data"
    }
   ],
   "source": [
    "output_data = []\n",
    "for q_idx, d in enumerate(tqdm(test_data)):\n",
    "    question = d['question']\n",
    "    anwser = d['answer']\n",
    "    tokens = tokenizer_cot(d['question'])\n",
    "    output = model_cot.generate(\n",
    "        torch.tensor(tokens['input_ids'], device='cuda:0').unsqueeze(0),\n",
    "        attention_mask=torch.tensor(tokens['attention_mask'], device='cuda:0').unsqueeze(0),\n",
    "        max_new_tokens=60,\n",
    "        num_beams=N_SEQUENCES,\n",
    "        num_return_sequences=N_SEQUENCES,\n",
    "        # temperature=0.1,\n",
    "        # do_sample=True,\n",
    "    )\n",
    "    steps_seen = set()\n",
    "    for a_idx, out in enumerate(output):\n",
    "        output_str = tokenizer_cot.decode(out)\n",
    "        print(output_str)\n",
    "        steps = ','.join(re.findall(r\"<<(.+)>>\", output_str))\n",
    "        if steps in steps_seen:\n",
    "            break\n",
    "        steps_seen.add(steps)\n",
    "        output_awser = ','.join(re.findall(r\"###\\s*([0-9]+)\\s*<\\|endoftext\\|>\", output_str))\n",
    "        output_data.append([q_idx, f\"{q_idx}_{a_idx}\", question, anwser,\n",
    "                       steps, output_awser, anwser==output_awser, output_str])"
   ]
  },
  {
   "cell_type": "code",
   "execution_count": null,
   "id": "1aa190c1-2b67-4142-b081-657d40b08280",
   "metadata": {},
   "outputs": [],
   "source": [
    "output_df = pd.DataFrame(\n",
    "    output_data,\n",
    "    columns=['q_idx','qa_idx','question','true_anwser','pred_steps','pred_anwser','correct_anwser','raw_output']\n",
    ")"
   ]
  },
  {
   "cell_type": "code",
   "execution_count": null,
   "id": "50e1a694-bc3f-4634-914d-6d4a26efdaf2",
   "metadata": {},
   "outputs": [
    {
     "data": {
      "text/html": [
       "<div>\n",
       "<style scoped>\n",
       "    .dataframe tbody tr th:only-of-type {\n",
       "        vertical-align: middle;\n",
       "    }\n",
       "\n",
       "    .dataframe tbody tr th {\n",
       "        vertical-align: top;\n",
       "    }\n",
       "\n",
       "    .dataframe thead th {\n",
       "        text-align: right;\n",
       "    }\n",
       "</style>\n",
       "<table border=\"1\" class=\"dataframe\">\n",
       "  <thead>\n",
       "    <tr style=\"text-align: right;\">\n",
       "      <th></th>\n",
       "      <th>q_idx</th>\n",
       "      <th>qa_idx</th>\n",
       "      <th>question</th>\n",
       "      <th>true_anwser</th>\n",
       "      <th>pred_steps</th>\n",
       "      <th>pred_anwser</th>\n",
       "      <th>correct_anwser</th>\n",
       "      <th>raw_output</th>\n",
       "    </tr>\n",
       "  </thead>\n",
       "  <tbody>\n",
       "    <tr>\n",
       "      <th>0</th>\n",
       "      <td>0</td>\n",
       "      <td>0_0</td>\n",
       "      <td>Janet’s ducks lay 16 eggs per day. She eats three for breakfast every morning and bakes muffins ...</td>\n",
       "      <td>18</td>\n",
       "      <td>3+4=7,16-7=9,9*2=18</td>\n",
       "      <td>18</td>\n",
       "      <td>True</td>\n",
       "      <td>Janet’s ducks lay 16 eggs per day. She eats three for breakfast every morning and bakes muffins ...</td>\n",
       "    </tr>\n",
       "    <tr>\n",
       "      <th>1</th>\n",
       "      <td>0</td>\n",
       "      <td>0_1</td>\n",
       "      <td>Janet’s ducks lay 16 eggs per day. She eats three for breakfast every morning and bakes muffins ...</td>\n",
       "      <td>18</td>\n",
       "      <td>3+4=7,16-7=9,9*7=63,63*2=126</td>\n",
       "      <td>126</td>\n",
       "      <td>False</td>\n",
       "      <td>Janet’s ducks lay 16 eggs per day. She eats three for breakfast every morning and bakes muffins ...</td>\n",
       "    </tr>\n",
       "    <tr>\n",
       "      <th>2</th>\n",
       "      <td>0</td>\n",
       "      <td>0_2</td>\n",
       "      <td>Janet’s ducks lay 16 eggs per day. She eats three for breakfast every morning and bakes muffins ...</td>\n",
       "      <td>18</td>\n",
       "      <td>3+4=7,16-7=9,16*9=144,144*2=288</td>\n",
       "      <td>288</td>\n",
       "      <td>False</td>\n",
       "      <td>Janet’s ducks lay 16 eggs per day. She eats three for breakfast every morning and bakes muffins ...</td>\n",
       "    </tr>\n",
       "    <tr>\n",
       "      <th>3</th>\n",
       "      <td>0</td>\n",
       "      <td>0_3</td>\n",
       "      <td>Janet’s ducks lay 16 eggs per day. She eats three for breakfast every morning and bakes muffins ...</td>\n",
       "      <td>18</td>\n",
       "      <td>16-3=13,3+4=7,13-7=6,6*2=12</td>\n",
       "      <td>12</td>\n",
       "      <td>False</td>\n",
       "      <td>Janet’s ducks lay 16 eggs per day. She eats three for breakfast every morning and bakes muffins ...</td>\n",
       "    </tr>\n",
       "    <tr>\n",
       "      <th>4</th>\n",
       "      <td>0</td>\n",
       "      <td>0_4</td>\n",
       "      <td>Janet’s ducks lay 16 eggs per day. She eats three for breakfast every morning and bakes muffins ...</td>\n",
       "      <td>18</td>\n",
       "      <td>3+4=7,16-7=9,9*4=36,36*2=72</td>\n",
       "      <td>72</td>\n",
       "      <td>False</td>\n",
       "      <td>Janet’s ducks lay 16 eggs per day. She eats three for breakfast every morning and bakes muffins ...</td>\n",
       "    </tr>\n",
       "    <tr>\n",
       "      <th>...</th>\n",
       "      <td>...</td>\n",
       "      <td>...</td>\n",
       "      <td>...</td>\n",
       "      <td>...</td>\n",
       "      <td>...</td>\n",
       "      <td>...</td>\n",
       "      <td>...</td>\n",
       "      <td>...</td>\n",
       "    </tr>\n",
       "    <tr>\n",
       "      <th>10036</th>\n",
       "      <td>1318</td>\n",
       "      <td>1318_0</td>\n",
       "      <td>Henry and 3 of his friends order 7 pizzas for lunch. Each pizza is cut into 8 slices. If Henry a...</td>\n",
       "      <td>14</td>\n",
       "      <td>7*8=56,56/4=14</td>\n",
       "      <td>14</td>\n",
       "      <td>True</td>\n",
       "      <td>Henry and 3 of his friends order 7 pizzas for lunch. Each pizza is cut into 8 slices. If Henry a...</td>\n",
       "    </tr>\n",
       "    <tr>\n",
       "      <th>10037</th>\n",
       "      <td>1318</td>\n",
       "      <td>1318_1</td>\n",
       "      <td>Henry and 3 of his friends order 7 pizzas for lunch. Each pizza is cut into 8 slices. If Henry a...</td>\n",
       "      <td>14</td>\n",
       "      <td>7*8=56,1+3=4,56/4=14</td>\n",
       "      <td>14</td>\n",
       "      <td>True</td>\n",
       "      <td>Henry and 3 of his friends order 7 pizzas for lunch. Each pizza is cut into 8 slices. If Henry a...</td>\n",
       "    </tr>\n",
       "    <tr>\n",
       "      <th>10038</th>\n",
       "      <td>1318</td>\n",
       "      <td>1318_2</td>\n",
       "      <td>Henry and 3 of his friends order 7 pizzas for lunch. Each pizza is cut into 8 slices. If Henry a...</td>\n",
       "      <td>14</td>\n",
       "      <td>1+3=4,7*8=56,56/4=14</td>\n",
       "      <td>14</td>\n",
       "      <td>True</td>\n",
       "      <td>Henry and 3 of his friends order 7 pizzas for lunch. Each pizza is cut into 8 slices. If Henry a...</td>\n",
       "    </tr>\n",
       "    <tr>\n",
       "      <th>10039</th>\n",
       "      <td>1318</td>\n",
       "      <td>1318_3</td>\n",
       "      <td>Henry and 3 of his friends order 7 pizzas for lunch. Each pizza is cut into 8 slices. If Henry a...</td>\n",
       "      <td>14</td>\n",
       "      <td>1+3=4,56/4=14</td>\n",
       "      <td>14</td>\n",
       "      <td>True</td>\n",
       "      <td>Henry and 3 of his friends order 7 pizzas for lunch. Each pizza is cut into 8 slices. If Henry a...</td>\n",
       "    </tr>\n",
       "    <tr>\n",
       "      <th>10040</th>\n",
       "      <td>1318</td>\n",
       "      <td>1318_4</td>\n",
       "      <td>Henry and 3 of his friends order 7 pizzas for lunch. Each pizza is cut into 8 slices. If Henry a...</td>\n",
       "      <td>14</td>\n",
       "      <td>3+1=4,7*8=56,56/4=14</td>\n",
       "      <td>14</td>\n",
       "      <td>True</td>\n",
       "      <td>Henry and 3 of his friends order 7 pizzas for lunch. Each pizza is cut into 8 slices. If Henry a...</td>\n",
       "    </tr>\n",
       "  </tbody>\n",
       "</table>\n",
       "<p>10041 rows × 8 columns</p>\n",
       "</div>"
      ],
      "text/plain": [
       "       q_idx  qa_idx  \\\n",
       "0          0     0_0   \n",
       "1          0     0_1   \n",
       "2          0     0_2   \n",
       "3          0     0_3   \n",
       "4          0     0_4   \n",
       "...      ...     ...   \n",
       "10036   1318  1318_0   \n",
       "10037   1318  1318_1   \n",
       "10038   1318  1318_2   \n",
       "10039   1318  1318_3   \n",
       "10040   1318  1318_4   \n",
       "\n",
       "                                                                                                  question  \\\n",
       "0      Janet’s ducks lay 16 eggs per day. She eats three for breakfast every morning and bakes muffins ...   \n",
       "1      Janet’s ducks lay 16 eggs per day. She eats three for breakfast every morning and bakes muffins ...   \n",
       "2      Janet’s ducks lay 16 eggs per day. She eats three for breakfast every morning and bakes muffins ...   \n",
       "3      Janet’s ducks lay 16 eggs per day. She eats three for breakfast every morning and bakes muffins ...   \n",
       "4      Janet’s ducks lay 16 eggs per day. She eats three for breakfast every morning and bakes muffins ...   \n",
       "...                                                                                                    ...   \n",
       "10036  Henry and 3 of his friends order 7 pizzas for lunch. Each pizza is cut into 8 slices. If Henry a...   \n",
       "10037  Henry and 3 of his friends order 7 pizzas for lunch. Each pizza is cut into 8 slices. If Henry a...   \n",
       "10038  Henry and 3 of his friends order 7 pizzas for lunch. Each pizza is cut into 8 slices. If Henry a...   \n",
       "10039  Henry and 3 of his friends order 7 pizzas for lunch. Each pizza is cut into 8 slices. If Henry a...   \n",
       "10040  Henry and 3 of his friends order 7 pizzas for lunch. Each pizza is cut into 8 slices. If Henry a...   \n",
       "\n",
       "      true_anwser                       pred_steps pred_anwser  \\\n",
       "0              18              3+4=7,16-7=9,9*2=18          18   \n",
       "1              18     3+4=7,16-7=9,9*7=63,63*2=126         126   \n",
       "2              18  3+4=7,16-7=9,16*9=144,144*2=288         288   \n",
       "3              18      16-3=13,3+4=7,13-7=6,6*2=12          12   \n",
       "4              18      3+4=7,16-7=9,9*4=36,36*2=72          72   \n",
       "...           ...                              ...         ...   \n",
       "10036          14                   7*8=56,56/4=14          14   \n",
       "10037          14             7*8=56,1+3=4,56/4=14          14   \n",
       "10038          14             1+3=4,7*8=56,56/4=14          14   \n",
       "10039          14                    1+3=4,56/4=14          14   \n",
       "10040          14             3+1=4,7*8=56,56/4=14          14   \n",
       "\n",
       "       correct_anwser  \\\n",
       "0                True   \n",
       "1               False   \n",
       "2               False   \n",
       "3               False   \n",
       "4               False   \n",
       "...               ...   \n",
       "10036            True   \n",
       "10037            True   \n",
       "10038            True   \n",
       "10039            True   \n",
       "10040            True   \n",
       "\n",
       "                                                                                                raw_output  \n",
       "0      Janet’s ducks lay 16 eggs per day. She eats three for breakfast every morning and bakes muffins ...  \n",
       "1      Janet’s ducks lay 16 eggs per day. She eats three for breakfast every morning and bakes muffins ...  \n",
       "2      Janet’s ducks lay 16 eggs per day. She eats three for breakfast every morning and bakes muffins ...  \n",
       "3      Janet’s ducks lay 16 eggs per day. She eats three for breakfast every morning and bakes muffins ...  \n",
       "4      Janet’s ducks lay 16 eggs per day. She eats three for breakfast every morning and bakes muffins ...  \n",
       "...                                                                                                    ...  \n",
       "10036  Henry and 3 of his friends order 7 pizzas for lunch. Each pizza is cut into 8 slices. If Henry a...  \n",
       "10037  Henry and 3 of his friends order 7 pizzas for lunch. Each pizza is cut into 8 slices. If Henry a...  \n",
       "10038  Henry and 3 of his friends order 7 pizzas for lunch. Each pizza is cut into 8 slices. If Henry a...  \n",
       "10039  Henry and 3 of his friends order 7 pizzas for lunch. Each pizza is cut into 8 slices. If Henry a...  \n",
       "10040  Henry and 3 of his friends order 7 pizzas for lunch. Each pizza is cut into 8 slices. If Henry a...  \n",
       "\n",
       "[10041 rows x 8 columns]"
      ]
     },
     "execution_count": 67,
     "metadata": {},
     "output_type": "execute_result"
    }
   ],
   "source": [
    "output_df"
   ]
  },
  {
   "cell_type": "code",
   "execution_count": null,
   "id": "74656175-4b6d-4926-9a9b-c20fd9aa0101",
   "metadata": {},
   "outputs": [],
   "source": [
    "#output_df = pd.read_csv('data/cot_pos_neg.csv')"
   ]
  },
  {
   "cell_type": "code",
   "execution_count": null,
   "id": "225144ac-4c83-45c2-b3c4-f55357637f15",
   "metadata": {},
   "outputs": [],
   "source": [
    "# Remove examples with dumb steps\n",
    "dumb_ops = output_df['pred_steps'].str.contains(r'\\*1=|\\*0=|\\+0=', na=False)\n",
    "output_df_filtered = output_df[~dumb_ops]\n",
    "\n",
    "# Remove examples that don't have a correct exampels\n",
    "gb = output_df_filtered.groupby('q_idx')['correct_anwser'].sum()\n",
    "gb = gb[gb>0]\n",
    "output_df_filtered = output_df_filtered[output_df_filtered['q_idx'].isin(gb.index)]"
   ]
  },
  {
   "cell_type": "code",
   "execution_count": null,
   "id": "0e301da5-ba55-4bae-a279-dd4b5f5b942a",
   "metadata": {},
   "outputs": [
    {
     "data": {
      "text/plain": [
       "array([<Axes: title={'center': 'False'}>,\n",
       "       <Axes: title={'center': 'True'}>], dtype=object)"
      ]
     },
     "execution_count": 69,
     "metadata": {},
     "output_type": "execute_result"
    },
    {
     "data": {
      "image/png": "[encoded data removed]",
      "text/plain": [
       "<Figure size 640x480 with 2 Axes>"
      ]
     },
     "metadata": {},
     "output_type": "display_data"
    }
   ],
   "source": [
    "output_df.groupby(['q_idx', 'correct_anwser']).size().hist(by='correct_anwser')"
   ]
  },
  {
   "cell_type": "code",
   "execution_count": null,
   "id": "dce169b9-a74e-4aae-a369-324c3c8e06e8",
   "metadata": {},
   "outputs": [
    {
     "data": {
      "text/plain": [
       "correct_anwser\n",
       "False    7982\n",
       "True     2059\n",
       "dtype: int64"
      ]
     },
     "execution_count": 59,
     "metadata": {},
     "output_type": "execute_result"
    }
   ],
   "source": [
    "output_df.groupby('correct_anwser').size()"
   ]
  },
  {
   "cell_type": "code",
   "execution_count": null,
   "id": "381b09d6-1e42-41df-9078-5b78837232ac",
   "metadata": {},
   "outputs": [],
   "source": [
    "output_df.to_csv('data/cot_pos_neg.csv', index=False)\n",
    "output_df_filtered.to_csv('data/cot_pos_neg_filtered.csv', index=False)"
   ]
  },
  {
   "cell_type": "code",
   "execution_count": null,
   "id": "400f964c-8f35-476d-81f3-1e70537e8eb8",
   "metadata": {},
   "outputs": [
    {
     "data": {
      "text/plain": [
       "'Henry and 3 of his friends order 7 pizzas for lunch. Each pizza is cut into 8 slices. If Henry and his friends want to share the pizzas equally, how many slices can each of them have?'"
      ]
     },
     "execution_count": 52,
     "metadata": {},
     "output_type": "execute_result"
    }
   ],
   "source": [
    "output_df.iloc[10036]['question']"
   ]
  },
  {
   "cell_type": "code",
   "execution_count": null,
   "id": "0fdd1348-7f38-4675-9381-d9429d724f5d",
   "metadata": {},
   "outputs": [],
   "source": []
  },
  {
   "cell_type": "code",
   "execution_count": null,
   "id": "ccf8aa28-728b-4aef-b81d-a56868cf763d",
   "metadata": {},
   "outputs": [],
   "source": []
  }
 ],
 "metadata": {
  "kernelspec": {
   "display_name": "coconut-venv",
   "language": "python",
   "name": "coconut-venv"
  }
 },
 "nbformat": 4,
 "nbformat_minor": 5
}
